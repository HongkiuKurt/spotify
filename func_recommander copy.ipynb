{
 "cells": [
  {
   "cell_type": "code",
   "execution_count": 2,
   "id": "7b30e617",
   "metadata": {},
   "outputs": [],
   "source": [
    "import config\n",
    "import pandas as pd\n",
    "import numpy as np\n",
    "import spotipy\n",
    "import json\n",
    "from spotipy.oauth2 import SpotifyClientCredentials\n",
    "import pickle\n",
    "from matplotlib import pyplot\n",
    "from IPython.display import IFrame"
   ]
  },
  {
   "cell_type": "code",
   "execution_count": 3,
   "id": "822c566f",
   "metadata": {},
   "outputs": [],
   "source": [
    "def input_database():\n",
    "##orginal song database.\n",
    "    global song_database\n",
    "    song_database = pd.read_csv('song_database.csv')\n",
    "##Billboard top 100.\n",
    "    global hot_list\n",
    "    hot_list = pd.read_csv('top100_.csv')\n",
    "##orginal song database with clusters.\n",
    "    global database_cluster\n",
    "    database_cluster = pd.read_csv('database_cluster.csv')\n"
   ]
  },
  {
   "cell_type": "markdown",
   "id": "d42b185c",
   "metadata": {},
   "source": [
    "# Function for hot/cold/wrong songs.\n"
   ]
  },
  {
   "cell_type": "code",
   "execution_count": 4,
   "id": "585ceadb",
   "metadata": {},
   "outputs": [],
   "source": [
    "def hot_search():\n",
    "    global track_id\n",
    "    recommand_100 = hot_list.sample()\n",
    "    song_100 = ''.join(recommand_100.song.values)\n",
    "    artist_100 = ''.join(recommand_100.artist.values)\n",
    "    print('Cool! Your song is in the top 100. Let me recommand another song from top 100. The song is', song_100.capitalize(), 'by', artist_100.capitalize())\n",
    "    index_100 = recommand_100.index\n",
    "    track_id = song_database.loc[index_100, 'id'].values[0]\n"
   ]
  },
  {
   "cell_type": "code",
   "execution_count": 5,
   "id": "55084210",
   "metadata": {},
   "outputs": [],
   "source": [
    "def cold_search():\n",
    "    global track_id    \n",
    "    sp = spotipy.Spotify(auth_manager=SpotifyClientCredentials(client_id= config.client_id, client_secret= config.client_secret))\n",
    "    selected_song = sp.search(q=song, limit=1,market=\"GB\")    \n",
    "    selected_song_feature = sp.audio_features(selected_song[\"tracks\"][\"items\"][0][\"uri\"])[0]\n",
    "    column_names = ['acousticness', 'danceability', 'duration_ms', 'energy',\n",
    "       'instrumentalness', 'key', 'liveness', 'loudness', 'mode',\n",
    "       'speechiness', 'tempo', 'time_signature','valence']\n",
    "    empty_database = pd.DataFrame(np.random.randint(0,1,size=(1, 13)), columns = column_names)\n",
    "    for a in column_names:\n",
    "        empty_database[a] = selected_song_feature[a]\n",
    "    empty_database_scaled = scaler2.transform(empty_database)\n",
    "    empty_database_scaled_df = pd.DataFrame(empty_database_scaled, columns = empty_database.columns)\n",
    "    song_cluster = model.predict(empty_database_scaled_df)\n",
    "    recommand_song = database_cluster[database_cluster['cluster'] == song_cluster[0]].sample()\n",
    "    a = recommand_song.index    \n",
    "    track_id = song_database.loc[a, 'id'].values[0]\n",
    "    recommand_song_song = song_database.loc[a, 'song'].values[0]\n",
    "    recommand_song_artist = song_database.loc[a, 'artist'].values[0]\n",
    "    print('Good taste! Let me recommand you something you may like. The song is', recommand_song_song.capitalize(), 'by', recommand_song_artist.capitalize())\n",
    "    test = sp.audio_features(selected_song[\"tracks\"][\"items\"][0][\"uri\"])[0]\n",
    "    test['artist'] = selected_song[\"tracks\"][\"items\"][0]['artists'][0]['name'].lower()\n",
    "    test['song'] = selected_song[\"tracks\"][\"items\"][0]['name'].lower()\n"
   ]
  },
  {
   "cell_type": "code",
   "execution_count": 6,
   "id": "ac71f247",
   "metadata": {},
   "outputs": [],
   "source": [
    "def wrong_search():\n",
    "    global track_id\n",
    "    database_cluster = pd.read_csv('database_cluster.csv')\n",
    "    recommand_random = hot_list.sample()\n",
    "    song_random = ''.join(recommand_random.song.values)\n",
    "    artist_random = ''.join(recommand_random.artist.values)\n",
    "    print('Your song can not be found in our database, let me recommand you a hit song', song_random.capitalize(), 'by', artist_random.capitalize())\n",
    "    index_random = recommand_random.index\n",
    "    track_id = song_database.loc[index_random, 'id'].values[0] "
   ]
  },
  {
   "cell_type": "code",
   "execution_count": 7,
   "id": "b0c98791",
   "metadata": {},
   "outputs": [],
   "source": [
    "def load(filename = \"filename.pickle\"): \n",
    "    try: \n",
    "        with open(filename, \"rb\") as f: \n",
    "            return pickle.load(f) \n",
    "    except FileNotFoundError: \n",
    "        print(\"File not found!\") "
   ]
  },
  {
   "cell_type": "code",
   "execution_count": null,
   "id": "54a7e614",
   "metadata": {},
   "outputs": [],
   "source": [
    "# input "
   ]
  },
  {
   "cell_type": "code",
   "execution_count": 8,
   "id": "a6e33f1e",
   "metadata": {},
   "outputs": [],
   "source": [
    "input_database()"
   ]
  },
  {
   "cell_type": "code",
   "execution_count": 9,
   "id": "175e76ca",
   "metadata": {},
   "outputs": [],
   "source": [
    "model = load(filename = \"Model/kmeans_14.pickle\")\n",
    "scaler2 = load(\"Model/scaler.pickle\")"
   ]
  },
  {
   "cell_type": "code",
   "execution_count": 10,
   "id": "86a8a329",
   "metadata": {},
   "outputs": [
    {
     "name": "stdout",
     "output_type": "stream",
     "text": [
      "Hello, can you share me a song you are listening? easy on me\n"
     ]
    }
   ],
   "source": [
    "song = input('Hello, can you share me a song you are listening? ')\n"
   ]
  },
  {
   "cell_type": "code",
   "execution_count": 11,
   "id": "1489d416",
   "metadata": {},
   "outputs": [],
   "source": [
    "song = song.lower()\n"
   ]
  },
  {
   "cell_type": "code",
   "execution_count": 12,
   "id": "8776cc61",
   "metadata": {},
   "outputs": [
    {
     "name": "stdout",
     "output_type": "stream",
     "text": [
      "Cool! Your song is in the top 100. Let me recommand another song from top 100. The song is Cold heart - pnau remix by Elton john\n"
     ]
    },
    {
     "data": {
      "text/html": [
       "\n",
       "        <iframe\n",
       "            width=\"320\"\n",
       "            height=\"80\"\n",
       "            src=\"https://open.spotify.com/embed/track/6zSpb8dQRaw0M1dK8PBwQz?frameborder=0&allowtransparency=true&allow=encrypted-media\"\n",
       "            frameborder=\"0\"\n",
       "            allowfullscreen\n",
       "            \n",
       "        ></iframe>\n",
       "        "
      ],
      "text/plain": [
       "<IPython.lib.display.IFrame at 0x7fc20ab16c10>"
      ]
     },
     "execution_count": 12,
     "metadata": {},
     "output_type": "execute_result"
    }
   ],
   "source": [
    "if song in hot_list.song.values:\n",
    "    hot_search()\n",
    "\n",
    "else:\n",
    "    try:\n",
    "        cold_search()\n",
    "                \n",
    "    except Exception:\n",
    "        wrong_search()\n",
    "        \n",
    "\n",
    "IFrame(src=f\"https://open.spotify.com/embed/track/{track_id}\",\n",
    "       width=\"320\",\n",
    "       height=\"80\",\n",
    "       frameborder=\"0\",\n",
    "       allowtransparency=\"true\",\n",
    "       allow=\"encrypted-media\",\n",
    "      )"
   ]
  },
  {
   "cell_type": "code",
   "execution_count": null,
   "id": "39996d53",
   "metadata": {},
   "outputs": [],
   "source": [
    "    row = \n",
    "    recommand = hot_list.sample()\n",
    "    song_100 = ''.join(recommand_100.song.values)\n",
    "    artist_100 = ''.join(recommand_100.artist.values)\n",
    "    ans = input('Is it the song you mentioned? Yes or No.')\n",
    "    while ans == 'No':\n",
    "        artist_name = input('Can you share me the artist? ')\n",
    "        sp = spotipy.Spotify(auth_manager=SpotifyClientCredentials(client_id= config.client_id, client_secret= config.client_secret))\n",
    "        selected_song = sp.search(q=[song, artist_name], limit=1,market=\"GB\")    \n",
    "        test = sp.audio_features(selected_song[\"tracks\"][\"items\"][0][\"uri\"])[0]\n",
    "        test['artist'] = selected_song[\"tracks\"][\"items\"][0]['artists'][0]['name'].lower()\n",
    "        test['song'] = selected_song[\"tracks\"][\"items\"][0]['name'].lower()\n",
    "        input('Are you mentioning ', test['song'], 'by', test['artist'])"
   ]
  },
  {
   "cell_type": "code",
   "execution_count": null,
   "id": "05d7a6b1",
   "metadata": {},
   "outputs": [],
   "source": []
  }
 ],
 "metadata": {
  "kernelspec": {
   "display_name": "Python 3 (ipykernel)",
   "language": "python",
   "name": "python3"
  },
  "language_info": {
   "codemirror_mode": {
    "name": "ipython",
    "version": 3
   },
   "file_extension": ".py",
   "mimetype": "text/x-python",
   "name": "python",
   "nbconvert_exporter": "python",
   "pygments_lexer": "ipython3",
   "version": "3.9.6"
  }
 },
 "nbformat": 4,
 "nbformat_minor": 5
}
