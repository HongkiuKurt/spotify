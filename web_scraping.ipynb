{
 "cells": [
  {
   "cell_type": "code",
   "execution_count": 2,
   "id": "6dc00824",
   "metadata": {},
   "outputs": [],
   "source": [
    "from bs4 import BeautifulSoup\n",
    "import requests\n",
    "import pandas as pd\n",
    "\n",
    "## \"https://www.billboard.com/charts/hot-100/\"\n",
    "\n",
    "def web_scraping():\n",
    "    url = input('Please input url.')\n",
    "    response = requests.get(url)\n",
    "    soup = BeautifulSoup(response.content, \"html.parser\")\n",
    "    noother = soup.select(\"li > ul > li > h3\")\n",
    "    songname = []\n",
    "    \n",
    "    for a in range(len(noother)):\n",
    "        b = noother[a].get_text().strip().lower()\n",
    "        songname.append(b)\n",
    "    \n",
    "    artist = [elem.get_text() for elem in soup.find_all(\"span\",{\"class\":\"a-no-trucate\"})]\n",
    "    songer = []\n",
    "    for a in artist:\n",
    "        b = a.strip().lower()\n",
    "        songer.append(b)\n",
    "    \n",
    "    top = pd.DataFrame(list(zip(songname, songer)),\n",
    "               columns =['song', 'artist'])\n",
    "    \n",
    "    listen = input('What are you currently listening? ').lower()\n",
    "    if listen in top.values:\n",
    "        c = top.sample()\n",
    "        print('Yes! Here is another hit song we recommand.' )\n",
    "        print(''.join(c.song.values).capitalize(), 'by', ''.join(c.artist.values).capitalize())\n",
    "\n",
    "    else:\n",
    "        print('Your song is not hit, maybe another song?')\n",
    "    "
   ]
  },
  {
   "cell_type": "code",
   "execution_count": null,
   "id": "83b3d141",
   "metadata": {},
   "outputs": [],
   "source": []
  },
  {
   "cell_type": "code",
   "execution_count": null,
   "id": "ec5517b3",
   "metadata": {},
   "outputs": [],
   "source": []
  },
  {
   "cell_type": "code",
   "execution_count": null,
   "id": "8bb3a595",
   "metadata": {},
   "outputs": [],
   "source": []
  },
  {
   "cell_type": "code",
   "execution_count": null,
   "id": "0f7d5775",
   "metadata": {},
   "outputs": [],
   "source": []
  }
 ],
 "metadata": {
  "kernelspec": {
   "display_name": "Python 3 (ipykernel)",
   "language": "python",
   "name": "python3"
  },
  "language_info": {
   "codemirror_mode": {
    "name": "ipython",
    "version": 3
   },
   "file_extension": ".py",
   "mimetype": "text/x-python",
   "name": "python",
   "nbconvert_exporter": "python",
   "pygments_lexer": "ipython3",
   "version": "3.9.6"
  }
 },
 "nbformat": 4,
 "nbformat_minor": 5
}
