{
 "cells": [
  {
   "cell_type": "code",
   "execution_count": 1,
   "id": "e2452e49",
   "metadata": {},
   "outputs": [],
   "source": [
    "client_id = 'e477adaae24844b78dc860f0c35d4f10'\n",
    "client_secret = '4b73d286a8404f0bac1c5240621566e9'"
   ]
  },
  {
   "cell_type": "code",
   "execution_count": null,
   "id": "0754694c",
   "metadata": {},
   "outputs": [],
   "source": []
  }
 ],
 "metadata": {
  "kernelspec": {
   "display_name": "Python 3 (ipykernel)",
   "language": "python",
   "name": "python3"
  },
  "language_info": {
   "codemirror_mode": {
    "name": "ipython",
    "version": 3
   },
   "file_extension": ".py",
   "mimetype": "text/x-python",
   "name": "python",
   "nbconvert_exporter": "python",
   "pygments_lexer": "ipython3",
   "version": "3.9.6"
  }
 },
 "nbformat": 4,
 "nbformat_minor": 5
}
