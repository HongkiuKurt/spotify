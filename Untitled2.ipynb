{
 "cells": [
  {
   "cell_type": "code",
   "execution_count": 3,
   "id": "66586026",
   "metadata": {},
   "outputs": [],
   "source": [
    "from tqdm.auto import tqdm\n",
    "import func_scrap"
   ]
  },
  {
   "cell_type": "code",
   "execution_count": null,
   "id": "14348b68",
   "metadata": {},
   "outputs": [],
   "source": []
  },
  {
   "cell_type": "code",
   "execution_count": 4,
   "id": "1fd1b902",
   "metadata": {},
   "outputs": [
    {
     "name": "stdout",
     "output_type": "stream",
     "text": [
      "Please input your playlist id.08ErAQsBAlNZ3a7Fm6AowD\n",
      "['CHANGMO', 'Dynamicduo', 'NCT 127', 'Gaeko', 'TWICE', 'JEON SOMI', 'JENNIE', 'TAEMIN', 'IU', 'H.O.T.', 'Wonstein', 'LeeHi', 'Red Velvet - IRENE & SEULGI', 'ROSÉ', 'Jessi', 'Oh Wonder', 'LISA', 'Selena Gomez', 'Sohyang', 'D.O.', 'HEN', 'EXO-SC', 'SMTOWN', 'SUGA', 'BLACKPINK', 'Parc Jae Jung', 'JEON SOYEON', 'CHANYEOL', 'KEY', 'Verbal Jint', 'Gaho', 'JOY', 'EXO', 'BAEKHYUN', 'TAEYEON', '10cm', \"Girls' Generation\", 'NCT U', 'HYO', 'Loopy', 'f(x)', 'Moon Sujin', 'SUPER JUNIOR', 'EXO-CBX', 'Red Velvet', 'YOO YOUNG JIN', 'EXO-K', 'Raiden', 'LAY', 'KAI', 'BIBI', 'CHEN', 'Lyn', 'Hwa Sa', 'Lee Sun Hee', 'SHINee', 'Girls Planet 999', 'Yoon Mirae', 'BOL4', 'BoA', 'ITZY', 'SuperM', 'aespa', 'Punch', 'S.E.S.']\n"
     ]
    },
    {
     "ename": "UnboundLocalError",
     "evalue": "local variable 'song_database' referenced before assignment",
     "output_type": "error",
     "traceback": [
      "\u001b[0;31m---------------------------------------------------------------------------\u001b[0m",
      "\u001b[0;31mUnboundLocalError\u001b[0m                         Traceback (most recent call last)",
      "\u001b[0;32m/var/folders/3r/vv8m2rv95fz7qh9n60xh60y40000gp/T/ipykernel_20854/3829680908.py\u001b[0m in \u001b[0;36m<module>\u001b[0;34m\u001b[0m\n\u001b[0;32m----> 1\u001b[0;31m \u001b[0mfunc_scrap\u001b[0m\u001b[0;34m.\u001b[0m\u001b[0mscrap_from_playlist\u001b[0m\u001b[0;34m(\u001b[0m\u001b[0;34m)\u001b[0m\u001b[0;34m\u001b[0m\u001b[0;34m\u001b[0m\u001b[0m\n\u001b[0m",
      "\u001b[0;32m~/Documents/GitHub/spotify_project/func_scrap.py\u001b[0m in \u001b[0;36mscrap_from_playlist\u001b[0;34m()\u001b[0m\n\u001b[1;32m     74\u001b[0m         \u001b[0;32mexcept\u001b[0m \u001b[0mIndexError\u001b[0m\u001b[0;34m:\u001b[0m\u001b[0;34m\u001b[0m\u001b[0;34m\u001b[0m\u001b[0m\n\u001b[1;32m     75\u001b[0m             \u001b[0;32mpass\u001b[0m\u001b[0;34m\u001b[0m\u001b[0;34m\u001b[0m\u001b[0m\n\u001b[0;32m---> 76\u001b[0;31m         \u001b[0msong_database\u001b[0m \u001b[0;34m=\u001b[0m \u001b[0msong_database\u001b[0m\u001b[0;34m.\u001b[0m\u001b[0mappend\u001b[0m\u001b[0;34m(\u001b[0m\u001b[0mtest\u001b[0m\u001b[0;34m,\u001b[0m \u001b[0mignore_index\u001b[0m\u001b[0;34m=\u001b[0m\u001b[0;32mTrue\u001b[0m\u001b[0;34m)\u001b[0m\u001b[0;34m\u001b[0m\u001b[0;34m\u001b[0m\u001b[0m\n\u001b[0m\u001b[1;32m     77\u001b[0m \u001b[0;34m\u001b[0m\u001b[0m\n\u001b[1;32m     78\u001b[0m     \u001b[0;32mreturn\u001b[0m \u001b[0msong_database\u001b[0m\u001b[0;34m\u001b[0m\u001b[0;34m\u001b[0m\u001b[0m\n",
      "\u001b[0;31mUnboundLocalError\u001b[0m: local variable 'song_database' referenced before assignment"
     ]
    }
   ],
   "source": [
    "func_scrap.scrap_from_playlist()"
   ]
  },
  {
   "cell_type": "code",
   "execution_count": null,
   "id": "9ae3b189",
   "metadata": {},
   "outputs": [],
   "source": []
  }
 ],
 "metadata": {
  "kernelspec": {
   "display_name": "Python 3 (ipykernel)",
   "language": "python",
   "name": "python3"
  },
  "language_info": {
   "codemirror_mode": {
    "name": "ipython",
    "version": 3
   },
   "file_extension": ".py",
   "mimetype": "text/x-python",
   "name": "python",
   "nbconvert_exporter": "python",
   "pygments_lexer": "ipython3",
   "version": "3.9.6"
  }
 },
 "nbformat": 4,
 "nbformat_minor": 5
}
