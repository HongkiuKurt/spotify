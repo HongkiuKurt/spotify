{
 "cells": [
  {
   "cell_type": "code",
   "execution_count": 1,
   "id": "9580d23e",
   "metadata": {},
   "outputs": [],
   "source": [
    "import config\n",
    "import pandas as pd\n",
    "import numpy as np"
   ]
  },
  {
   "cell_type": "code",
   "execution_count": 2,
   "id": "09c56b1c",
   "metadata": {},
   "outputs": [],
   "source": [
    "import spotipy\n",
    "import json\n",
    "from spotipy.oauth2 import SpotifyClientCredentials"
   ]
  },
  {
   "cell_type": "code",
   "execution_count": 5,
   "id": "ea4b4190",
   "metadata": {},
   "outputs": [],
   "source": [
    "def set_up():\n",
    "    a = input('Your database name.')\n",
    "    song_database = pd.read_csv(a)\n",
    "    return song_database\n",
    "    "
   ]
  },
  {
   "cell_type": "code",
   "execution_count": null,
   "id": "6fbb7946",
   "metadata": {},
   "outputs": [],
   "source": [
    "def scrap_song_by_artist(a):\n",
    "    results = sp.search(q=a, limit=50,market=\"GB\")\n",
    "    for b in range(50):\n",
    "        name = results[\"tracks\"][\"items\"][b]['name']\n",
    "        song = sp.search(q=name, limit=1,market=\"GB\") \n",
    "        test = sp.audio_features(song[\"tracks\"][\"items\"][0][\"uri\"])[0]\n",
    "        test['artist'] = song[\"tracks\"][\"items\"][0]['artists'][0]['name'].lower()\n",
    "        test['song'] = song[\"tracks\"][\"items\"][0]['name'].lower()\n",
    "        song_database = song_database.append(test, ignore_index=True)\n",
    "    return song_database\n"
   ]
  },
  {
   "cell_type": "code",
   "execution_count": null,
   "id": "cacd1c95",
   "metadata": {},
   "outputs": [],
   "source": [
    "def get_playlist_tracks(username, playlist_id):\n",
    "    results = sp.user_playlist_tracks(username,playlist_id,market=\"GB\")\n",
    "    tracks = results['items']\n",
    "    while results['next']:\n",
    "        results = sp.next(results)\n",
    "        tracks.extend(results['items'])\n",
    "    return tracks"
   ]
  },
  {
   "cell_type": "code",
   "execution_count": null,
   "id": "6cbaba98",
   "metadata": {},
   "outputs": [],
   "source": [
    "def get_artists_from_track(track):\n",
    "    return [artist[\"name\"] for artist in track[\"artists\"]]"
   ]
  },
  {
   "cell_type": "code",
   "execution_count": null,
   "id": "1e741f51",
   "metadata": {},
   "outputs": [],
   "source": [
    "def get_artists_from_playlist(playlist_id):\n",
    "    tracks_from_playlist = get_playlist_tracks(\"spotify\", playlist_id)\n",
    "    return list(set(artist for subset in [get_artists_from_track(track[\"track\"]) for track in tracks_from_playlist] for artist in subset))"
   ]
  },
  {
   "cell_type": "code",
   "execution_count": 1,
   "id": "40fda1e1",
   "metadata": {},
   "outputs": [],
   "source": [
    "def scrap_song_from_playlist():\n",
    "\n",
    "    song_database = pd.read_csv('song_database.csv')\n",
    "    name = input('input your playlist id.')\n",
    "    get_playlist_tracks(\"spotify\", name)\n",
    "\n",
    "    get_playlist_tracks(\"spotify\", \"2ul0Es0SXpbLwkd37eWrdf\")\n",
    "\n",
    "def get_artists_from_track(track):\n",
    "    return [artist[\"name\"] for artist in track[\"artists\"]]\n",
    "\n",
    "def get_artists_from_playlist(playlist_id):\n",
    "    tracks_from_playlist = get_playlist_tracks(\"spotify\", playlist_id)\n",
    "    \n",
    "\n",
    "    new_artist_list = get_artists_from_playlist(\"2ul0Es0SXpbLwkd37eWrdf\")\n",
    "    \n",
    "    for a in new_artist_list:\n",
    "        results = sp.search(q=a, limit=50,market=\"GB\")\n",
    "        for b in range(50):\n",
    "            try:\n",
    "                name = results[\"tracks\"][\"items\"][b]['name']\n",
    "            except IndexError:\n",
    "                pass\n",
    "            except TypeError:\n",
    "                pass\n",
    "            song = sp.search(q=name, limit=1,market=\"GB\") \n",
    "            try:\n",
    "                test = sp.audio_features(song[\"tracks\"][\"items\"][0][\"uri\"])[0]\n",
    "            except IndexError:\n",
    "                pass\n",
    "            except TypeError:\n",
    "                pass\n",
    "            try:\n",
    "                test['artist'] = song[\"tracks\"][\"items\"][0]['artists'][0]['name'].lower()\n",
    "            except TypeError:\n",
    "                pass\n",
    "            except IndexError:\n",
    "                pass\n",
    "            try:\n",
    "                test['song'] = song[\"tracks\"][\"items\"][0]['name'].lower()\n",
    "            except TypeError:\n",
    "                pass\n",
    "            except IndexError:\n",
    "                pass\n",
    "            song_database = song_database.append(test, ignore_index=True)\n",
    " "
   ]
  },
  {
   "cell_type": "code",
   "execution_count": null,
   "id": "60acb8c5",
   "metadata": {},
   "outputs": [],
   "source": []
  }
 ],
 "metadata": {
  "kernelspec": {
   "display_name": "Python 3 (ipykernel)",
   "language": "python",
   "name": "python3"
  },
  "language_info": {
   "codemirror_mode": {
    "name": "ipython",
    "version": 3
   },
   "file_extension": ".py",
   "mimetype": "text/x-python",
   "name": "python",
   "nbconvert_exporter": "python",
   "pygments_lexer": "ipython3",
   "version": "3.9.6"
  }
 },
 "nbformat": 4,
 "nbformat_minor": 5
}
