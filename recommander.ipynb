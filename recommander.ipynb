{
 "cells": [
  {
   "cell_type": "code",
   "execution_count": 7,
   "id": "4b8bbecd",
   "metadata": {},
   "outputs": [],
   "source": [
    "import config\n",
    "import pandas as pd\n",
    "import numpy as np\n",
    "import spotipy\n",
    "import json\n",
    "from spotipy.oauth2 import SpotifyClientCredentials\n",
    "import pickle\n",
    "from matplotlib import pyplot\n",
    "from IPython.display import IFrame\n",
    "import traceback\n",
    "import logging\n"
   ]
  },
  {
   "cell_type": "code",
   "execution_count": 8,
   "id": "d99c3bb9",
   "metadata": {},
   "outputs": [],
   "source": [
    "##orginal song database.\n",
    "song_database = pd.read_csv('song_database.csv')\n",
    "##Billboard top 100.\n",
    "hot_list = pd.read_csv('top100_.csv')\n",
    "##orginal song database with clusters.\n",
    "database_cluster = pd.read_csv('database_cluster.csv')"
   ]
  },
  {
   "cell_type": "code",
   "execution_count": 9,
   "id": "aa7692d8",
   "metadata": {},
   "outputs": [
    {
     "name": "stdout",
     "output_type": "stream",
     "text": [
      "Hello, can you share me a song you are listening? \n"
     ]
    }
   ],
   "source": [
    "song = input('Hello, can you share me a song you are listening? ')"
   ]
  },
  {
   "cell_type": "code",
   "execution_count": null,
   "id": "d77e1eb2",
   "metadata": {},
   "outputs": [],
   "source": []
  },
  {
   "cell_type": "code",
   "execution_count": 10,
   "id": "fedd3f03",
   "metadata": {},
   "outputs": [
    {
     "name": "stderr",
     "output_type": "stream",
     "text": [
      "HTTP Error for GET to https://api.spotify.com/v1/search with Params: {'q': '', 'limit': 1, 'offset': 0, 'type': 'track', 'market': 'GB'} returned 400 due to No search query\n"
     ]
    },
    {
     "name": "stdout",
     "output_type": "stream",
     "text": [
      "Your song can not be found in our database, let me recommand you a hit song All i want for christmas is you by Mariah carey\n"
     ]
    }
   ],
   "source": [
    "song = song.lower()\n",
    "if song in hot_list.song.values:\n",
    "    recommand_100 = hot_list.sample()\n",
    "    song_100 = ''.join(recommand_100.song.values)\n",
    "    artist_100 = ''.join(recommand_100.artist.values)\n",
    "    print('Cool! Your song is in the top 100. Let me recommand another song from top 100. The song is', song_100.capitalize(), 'by', artist_100.capitalize())\n",
    "    index_100 = recommand_100.index\n",
    "    track_id = song_database.loc[index_100, 'id'].values[0]\n",
    "\n",
    "    \n",
    "else:\n",
    "    try:\n",
    "        sp = spotipy.Spotify(auth_manager=SpotifyClientCredentials(client_id= config.client_id, client_secret= config.client_secret))\n",
    "        selected_song = sp.search(q=song, limit=1,market=\"GB\") \n",
    "        selected_song_feature = sp.audio_features(selected_song[\"tracks\"][\"items\"][0][\"uri\"])[0]\n",
    "        new_songlist = pd.read_csv('new_songlist.csv')\n",
    "    \n",
    "        def load(filename = \"filename.pickle\"): \n",
    "            try: \n",
    "                with open(filename, \"rb\") as f: \n",
    "                    return pickle.load(f) \n",
    "            except FileNotFoundError: \n",
    "                print(\"File not found!\") \n",
    "                \n",
    "    except Exception:\n",
    "        recommand_random = hot_list.sample()\n",
    "        song_random = ''.join(recommand_random.song.values)\n",
    "        artist_random = ''.join(recommand_random.artist.values)\n",
    "        print('Your song can not be found in our database, let me recommand you a hit song', song_random.capitalize(), 'by', artist_random.capitalize())\n",
    "        index_random = recommand_random.index\n",
    "        track_id = song_database.loc[index_random, 'id'].values[0]      \n",
    "    \n",
    "    \n",
    "    \n"
   ]
  },
  {
   "cell_type": "code",
   "execution_count": null,
   "id": "1e9e5b56",
   "metadata": {},
   "outputs": [],
   "source": []
  },
  {
   "cell_type": "code",
   "execution_count": null,
   "id": "6f73fc33",
   "metadata": {},
   "outputs": [],
   "source": []
  },
  {
   "cell_type": "code",
   "execution_count": 11,
   "id": "e8ab99b3",
   "metadata": {},
   "outputs": [
    {
     "data": {
      "text/plain": [
       "{'danceability': 0.696,\n",
       " 'energy': 0.921,\n",
       " 'key': 0,\n",
       " 'loudness': -3.755,\n",
       " 'mode': 1,\n",
       " 'speechiness': 0.0363,\n",
       " 'acousticness': 0.00314,\n",
       " 'instrumentalness': 5.24e-05,\n",
       " 'liveness': 0.0842,\n",
       " 'valence': 0.714,\n",
       " 'tempo': 119.001,\n",
       " 'type': 'audio_features',\n",
       " 'id': '0SiywuOBRcynK0uKGWdCnn',\n",
       " 'uri': 'spotify:track:0SiywuOBRcynK0uKGWdCnn',\n",
       " 'track_href': 'https://api.spotify.com/v1/tracks/0SiywuOBRcynK0uKGWdCnn',\n",
       " 'analysis_url': 'https://api.spotify.com/v1/audio-analysis/0SiywuOBRcynK0uKGWdCnn',\n",
       " 'duration_ms': 294573,\n",
       " 'time_signature': 4}"
      ]
     },
     "execution_count": 11,
     "metadata": {},
     "output_type": "execute_result"
    }
   ],
   "source": [
    "selected_song_feature"
   ]
  },
  {
   "cell_type": "code",
   "execution_count": 12,
   "id": "f226ea75",
   "metadata": {},
   "outputs": [
    {
     "data": {
      "text/plain": [
       "StandardScaler()"
      ]
     },
     "execution_count": 12,
     "metadata": {},
     "output_type": "execute_result"
    }
   ],
   "source": [
    "model = load(filename = \"Model/kmeans_7.pickle\")\n",
    "\n",
    "scaler2 = load(\"Model/scaler.pickle\")\n",
    "scaler2"
   ]
  },
  {
   "cell_type": "code",
   "execution_count": 13,
   "id": "601a406e",
   "metadata": {},
   "outputs": [
    {
     "data": {
      "text/plain": [
       "KMeans(n_clusters=7, random_state=1234)"
      ]
     },
     "execution_count": 13,
     "metadata": {},
     "output_type": "execute_result"
    }
   ],
   "source": [
    "model"
   ]
  },
  {
   "cell_type": "code",
   "execution_count": 14,
   "id": "f60d0c4c",
   "metadata": {},
   "outputs": [],
   "source": [
    "column_names = ['acousticness', 'danceability', 'duration_ms', 'energy',\n",
    "       'instrumentalness', 'key', 'liveness', 'loudness', 'mode',\n",
    "       'speechiness', 'tempo', 'time_signature','valence']\n",
    "empty_database = pd.DataFrame(np.random.randint(0,1,size=(1, 13)), columns = column_names)\n"
   ]
  },
  {
   "cell_type": "code",
   "execution_count": null,
   "id": "26a489db",
   "metadata": {},
   "outputs": [],
   "source": [
    "\n"
   ]
  },
  {
   "cell_type": "code",
   "execution_count": 15,
   "id": "5abf1387",
   "metadata": {},
   "outputs": [],
   "source": [
    "for a in column_names:\n",
    "    empty_database[a] = selected_song_feature[a]\n"
   ]
  },
  {
   "cell_type": "code",
   "execution_count": 16,
   "id": "6bf04708",
   "metadata": {},
   "outputs": [
    {
     "data": {
      "text/html": [
       "<div>\n",
       "<style scoped>\n",
       "    .dataframe tbody tr th:only-of-type {\n",
       "        vertical-align: middle;\n",
       "    }\n",
       "\n",
       "    .dataframe tbody tr th {\n",
       "        vertical-align: top;\n",
       "    }\n",
       "\n",
       "    .dataframe thead th {\n",
       "        text-align: right;\n",
       "    }\n",
       "</style>\n",
       "<table border=\"1\" class=\"dataframe\">\n",
       "  <thead>\n",
       "    <tr style=\"text-align: right;\">\n",
       "      <th></th>\n",
       "      <th>acousticness</th>\n",
       "      <th>danceability</th>\n",
       "      <th>duration_ms</th>\n",
       "      <th>energy</th>\n",
       "      <th>instrumentalness</th>\n",
       "      <th>key</th>\n",
       "      <th>liveness</th>\n",
       "      <th>loudness</th>\n",
       "      <th>mode</th>\n",
       "      <th>speechiness</th>\n",
       "      <th>tempo</th>\n",
       "      <th>time_signature</th>\n",
       "      <th>valence</th>\n",
       "    </tr>\n",
       "  </thead>\n",
       "  <tbody>\n",
       "    <tr>\n",
       "      <th>0</th>\n",
       "      <td>-1.071635</td>\n",
       "      <td>0.675552</td>\n",
       "      <td>0.663991</td>\n",
       "      <td>1.435786</td>\n",
       "      <td>-0.51751</td>\n",
       "      <td>-1.466243</td>\n",
       "      <td>-0.647589</td>\n",
       "      <td>1.039007</td>\n",
       "      <td>0.750669</td>\n",
       "      <td>-0.484054</td>\n",
       "      <td>-0.032066</td>\n",
       "      <td>0.219065</td>\n",
       "      <td>1.043255</td>\n",
       "    </tr>\n",
       "  </tbody>\n",
       "</table>\n",
       "</div>"
      ],
      "text/plain": [
       "   acousticness  danceability  duration_ms    energy  instrumentalness  \\\n",
       "0     -1.071635      0.675552     0.663991  1.435786          -0.51751   \n",
       "\n",
       "        key  liveness  loudness      mode  speechiness     tempo  \\\n",
       "0 -1.466243 -0.647589  1.039007  0.750669    -0.484054 -0.032066   \n",
       "\n",
       "   time_signature   valence  \n",
       "0        0.219065  1.043255  "
      ]
     },
     "execution_count": 16,
     "metadata": {},
     "output_type": "execute_result"
    }
   ],
   "source": [
    "empty_database_scaled = scaler2.transform(empty_database)\n",
    "empty_database_scaled_df = pd.DataFrame(empty_database_scaled, columns = empty_database.columns)\n",
    "empty_database_scaled_df"
   ]
  },
  {
   "cell_type": "code",
   "execution_count": 17,
   "id": "0010928d",
   "metadata": {},
   "outputs": [],
   "source": [
    "song_cluster = model.predict(empty_database_scaled_df)"
   ]
  },
  {
   "cell_type": "code",
   "execution_count": 18,
   "id": "8b28e68b",
   "metadata": {},
   "outputs": [
    {
     "data": {
      "text/plain": [
       "array([2], dtype=int32)"
      ]
     },
     "execution_count": 18,
     "metadata": {},
     "output_type": "execute_result"
    }
   ],
   "source": [
    "song_cluster"
   ]
  },
  {
   "cell_type": "code",
   "execution_count": 19,
   "id": "c5ce9087",
   "metadata": {},
   "outputs": [],
   "source": [
    "recommand_song = database_cluster[database_cluster['cluster'] == song_cluster[0]].sample()"
   ]
  },
  {
   "cell_type": "code",
   "execution_count": 20,
   "id": "e8d68105",
   "metadata": {},
   "outputs": [
    {
     "data": {
      "text/html": [
       "<div>\n",
       "<style scoped>\n",
       "    .dataframe tbody tr th:only-of-type {\n",
       "        vertical-align: middle;\n",
       "    }\n",
       "\n",
       "    .dataframe tbody tr th {\n",
       "        vertical-align: top;\n",
       "    }\n",
       "\n",
       "    .dataframe thead th {\n",
       "        text-align: right;\n",
       "    }\n",
       "</style>\n",
       "<table border=\"1\" class=\"dataframe\">\n",
       "  <thead>\n",
       "    <tr style=\"text-align: right;\">\n",
       "      <th></th>\n",
       "      <th>Unnamed: 0</th>\n",
       "      <th>acousticness</th>\n",
       "      <th>danceability</th>\n",
       "      <th>duration_ms</th>\n",
       "      <th>energy</th>\n",
       "      <th>instrumentalness</th>\n",
       "      <th>key</th>\n",
       "      <th>liveness</th>\n",
       "      <th>loudness</th>\n",
       "      <th>mode</th>\n",
       "      <th>speechiness</th>\n",
       "      <th>tempo</th>\n",
       "      <th>time_signature</th>\n",
       "      <th>valence</th>\n",
       "      <th>cluster</th>\n",
       "    </tr>\n",
       "  </thead>\n",
       "  <tbody>\n",
       "    <tr>\n",
       "      <th>22159</th>\n",
       "      <td>22159</td>\n",
       "      <td>0.14</td>\n",
       "      <td>0.636</td>\n",
       "      <td>175465.0</td>\n",
       "      <td>0.875</td>\n",
       "      <td>0.0</td>\n",
       "      <td>6.0</td>\n",
       "      <td>0.355</td>\n",
       "      <td>-5.151</td>\n",
       "      <td>0.0</td>\n",
       "      <td>0.0391</td>\n",
       "      <td>149.939</td>\n",
       "      <td>4.0</td>\n",
       "      <td>0.846</td>\n",
       "      <td>2</td>\n",
       "    </tr>\n",
       "  </tbody>\n",
       "</table>\n",
       "</div>"
      ],
      "text/plain": [
       "       Unnamed: 0  acousticness  danceability  duration_ms  energy  \\\n",
       "22159       22159          0.14         0.636     175465.0   0.875   \n",
       "\n",
       "       instrumentalness  key  liveness  loudness  mode  speechiness    tempo  \\\n",
       "22159               0.0  6.0     0.355    -5.151   0.0       0.0391  149.939   \n",
       "\n",
       "       time_signature  valence  cluster  \n",
       "22159             4.0    0.846        2  "
      ]
     },
     "execution_count": 20,
     "metadata": {},
     "output_type": "execute_result"
    }
   ],
   "source": [
    "recommand_song"
   ]
  },
  {
   "cell_type": "code",
   "execution_count": 21,
   "id": "68e1c1c6",
   "metadata": {},
   "outputs": [],
   "source": [
    "a = recommand_song.index"
   ]
  },
  {
   "cell_type": "code",
   "execution_count": 22,
   "id": "13614f4c",
   "metadata": {},
   "outputs": [],
   "source": [
    "track_id = song_database.loc[a, 'id'].values[0]\n"
   ]
  },
  {
   "cell_type": "code",
   "execution_count": null,
   "id": "707e0be4",
   "metadata": {},
   "outputs": [],
   "source": []
  },
  {
   "cell_type": "code",
   "execution_count": 23,
   "id": "9eec382c",
   "metadata": {},
   "outputs": [
    {
     "data": {
      "text/html": [
       "\n",
       "        <iframe\n",
       "            width=\"320\"\n",
       "            height=\"80\"\n",
       "            src=\"https://open.spotify.com/embed/track/0clgT0iZuVzYZwaALYoJ7e?frameborder=0&allowtransparency=true&allow=encrypted-media\"\n",
       "            frameborder=\"0\"\n",
       "            allowfullscreen\n",
       "            \n",
       "        ></iframe>\n",
       "        "
      ],
      "text/plain": [
       "<IPython.lib.display.IFrame at 0x7f9af4bb1b50>"
      ]
     },
     "execution_count": 23,
     "metadata": {},
     "output_type": "execute_result"
    }
   ],
   "source": [
    "from IPython.display import IFrame\n",
    "\n",
    "\n",
    "IFrame(src=f\"https://open.spotify.com/embed/track/{track_id}\",\n",
    "       width=\"320\",\n",
    "       height=\"80\",\n",
    "       frameborder=\"0\",\n",
    "       allowtransparency=\"true\",\n",
    "       allow=\"encrypted-media\",\n",
    "      )"
   ]
  },
  {
   "cell_type": "code",
   "execution_count": null,
   "id": "6bb94006",
   "metadata": {},
   "outputs": [],
   "source": []
  },
  {
   "cell_type": "code",
   "execution_count": null,
   "id": "8092a245",
   "metadata": {},
   "outputs": [],
   "source": []
  },
  {
   "cell_type": "code",
   "execution_count": 25,
   "id": "32123a65",
   "metadata": {},
   "outputs": [
    {
     "data": {
      "text/plain": [
       "array([2], dtype=int32)"
      ]
     },
     "execution_count": 25,
     "metadata": {},
     "output_type": "execute_result"
    }
   ],
   "source": [
    "labels = model.predict(empty_database_scaled_df)\n",
    "\n",
    "labels"
   ]
  },
  {
   "cell_type": "code",
   "execution_count": null,
   "id": "4296b2e8",
   "metadata": {},
   "outputs": [],
   "source": []
  },
  {
   "cell_type": "code",
   "execution_count": null,
   "id": "0acd6172",
   "metadata": {},
   "outputs": [],
   "source": []
  },
  {
   "cell_type": "code",
   "execution_count": null,
   "id": "ae6b909d",
   "metadata": {},
   "outputs": [],
   "source": []
  },
  {
   "cell_type": "code",
   "execution_count": null,
   "id": "7a00ae35",
   "metadata": {},
   "outputs": [],
   "source": []
  },
  {
   "cell_type": "code",
   "execution_count": null,
   "id": "f07d5c5c",
   "metadata": {},
   "outputs": [],
   "source": []
  },
  {
   "cell_type": "code",
   "execution_count": null,
   "id": "2b4e649b",
   "metadata": {},
   "outputs": [],
   "source": []
  },
  {
   "cell_type": "code",
   "execution_count": null,
   "id": "d4d08068",
   "metadata": {},
   "outputs": [],
   "source": []
  },
  {
   "cell_type": "code",
   "execution_count": null,
   "id": "1e3ca5ea",
   "metadata": {},
   "outputs": [],
   "source": []
  },
  {
   "cell_type": "code",
   "execution_count": null,
   "id": "77e09829",
   "metadata": {},
   "outputs": [],
   "source": []
  }
 ],
 "metadata": {
  "kernelspec": {
   "display_name": "Python 3 (ipykernel)",
   "language": "python",
   "name": "python3"
  },
  "language_info": {
   "codemirror_mode": {
    "name": "ipython",
    "version": 3
   },
   "file_extension": ".py",
   "mimetype": "text/x-python",
   "name": "python",
   "nbconvert_exporter": "python",
   "pygments_lexer": "ipython3",
   "version": "3.9.6"
  }
 },
 "nbformat": 4,
 "nbformat_minor": 5
}
