{
 "cells": [
  {
   "cell_type": "code",
   "execution_count": 1,
   "id": "16f79e5e",
   "metadata": {},
   "outputs": [],
   "source": [
    "from bs4 import BeautifulSoup\n",
    "import requests\n",
    "import pandas as pd\n",
    "import spotipy\n",
    "import json\n",
    "from spotipy.oauth2 import SpotifyClientCredentials\n",
    "import config\n",
    "import numpy as np"
   ]
  },
  {
   "cell_type": "code",
   "execution_count": 8,
   "id": "039fe97e",
   "metadata": {},
   "outputs": [],
   "source": []
  },
  {
   "cell_type": "code",
   "execution_count": 2,
   "id": "93f860f6",
   "metadata": {},
   "outputs": [],
   "source": [
    "def scrap_from_playlist():\n",
    "    list_id = input('Please input your playlist id.')\n",
    "    sp = spotipy.Spotify(auth_manager=SpotifyClientCredentials(client_id= config.client_id, client_secret= config.client_secret))\n",
    "    song_database = pd.read_csv('song_database.csv')\n",
    "    def get_playlist_tracks(username, playlist_id):\n",
    "        results = sp.user_playlist_tracks(username,playlist_id,market=\"GB\")\n",
    "        tracks = results['items']\n",
    "        while results['next']:\n",
    "            results = sp.next(results)\n",
    "            tracks.extend(results['items'])\n",
    "        return tracks\n",
    "    \n",
    "    def get_artists_from_track(track):\n",
    "        return [artist[\"name\"] for artist in track[\"artists\"]]\n",
    "    \n",
    "    def get_artists_from_playlist(playlist_id):\n",
    "        tracks_from_playlist = get_playlist_tracks(\"spotify\", playlist_id)\n",
    "        return list(set(artist for subset in [get_artists_from_track(track[\"track\"]) for track in tracks_from_playlist] for artist in subset))\n",
    "    \n",
    "    new_artist_list = get_artists_from_playlist(list_id)\n",
    "    print(new_artist_list)\n",
    "    \n",
    "    for a in new_artist_list:\n",
    "        results = sp.search(q=a, limit=50,market=\"GB\")\n",
    "    for b in range(50):\n",
    "        try:\n",
    "            name = results[\"tracks\"][\"items\"][b]['name']\n",
    "        except IndexError:\n",
    "            pass\n",
    "        except TypeError:\n",
    "            pass\n",
    "        song = sp.search(q=name, limit=1,market=\"GB\") \n",
    "        try:\n",
    "            test = sp.audio_features(song[\"tracks\"][\"items\"][0][\"uri\"])[0]\n",
    "        except IndexError:\n",
    "            pass\n",
    "        except TypeError:\n",
    "            pass\n",
    "        try:\n",
    "            test['artist'] = song[\"tracks\"][\"items\"][0]['artists'][0]['name'].lower()\n",
    "        except TypeError:\n",
    "            pass\n",
    "        except IndexError:\n",
    "            pass\n",
    "        try:\n",
    "            test['song'] = song[\"tracks\"][\"items\"][0]['name'].lower()\n",
    "        except TypeError:\n",
    "            pass\n",
    "        except IndexError:\n",
    "            pass\n",
    "        song_database = song_database.append(test, ignore_index=True)\n",
    "\n",
    "    return song_database"
   ]
  },
  {
   "cell_type": "code",
   "execution_count": 3,
   "id": "656f97c1",
   "metadata": {},
   "outputs": [
    {
     "name": "stdout",
     "output_type": "stream",
     "text": [
      "Please input your playlist id.08ErAQsBAlNZ3a7Fm6AowD\n",
      "[\"Girls' Generation\", 'TAEMIN', 'YOO YOUNG JIN', 'KEY', 'Red Velvet', 'Red Velvet - IRENE & SEULGI', 'Verbal Jint', 'H.O.T.', 'IU', '10cm', 'BIBI', 'JOY', 'BOL4', 'Wonstein', 'Hwa Sa', 'Yoon Mirae', 'EXO', 'CHEN', 'BAEKHYUN', 'Dynamicduo', 'CHANYEOL', 'Selena Gomez', 'S.E.S.', 'ROSÉ', 'SUGA', 'LAY', 'KAI', 'NCT U', 'Moon Sujin', 'D.O.', 'SUPER JUNIOR', 'TWICE', 'Parc Jae Jung', 'aespa', 'LeeHi', 'BLACKPINK', 'f(x)', 'EXO-SC', 'JEON SOYEON', 'BoA', 'JENNIE', 'HYO', 'SMTOWN', 'TAEYEON', 'Loopy', 'Girls Planet 999', 'LISA', 'Sohyang', 'NCT 127', 'Lyn', 'SuperM', 'Oh Wonder', 'Gaho', 'Gaeko', 'HEN', 'Raiden', 'CHANGMO', 'Lee Sun Hee', 'Punch', 'Jessi', 'SHINee', 'EXO-CBX', 'JEON SOMI', 'ITZY', 'EXO-K']\n"
     ]
    },
    {
     "ename": "UnboundLocalError",
     "evalue": "local variable 'song_database' referenced before assignment",
     "output_type": "error",
     "traceback": [
      "\u001b[0;31m---------------------------------------------------------------------------\u001b[0m",
      "\u001b[0;31mUnboundLocalError\u001b[0m                         Traceback (most recent call last)",
      "\u001b[0;32m/var/folders/3r/vv8m2rv95fz7qh9n60xh60y40000gp/T/ipykernel_20825/2509520054.py\u001b[0m in \u001b[0;36m<module>\u001b[0;34m\u001b[0m\n\u001b[0;32m----> 1\u001b[0;31m \u001b[0mscrap_from_playlist\u001b[0m\u001b[0;34m(\u001b[0m\u001b[0;34m)\u001b[0m\u001b[0;34m\u001b[0m\u001b[0;34m\u001b[0m\u001b[0m\n\u001b[0m",
      "\u001b[0;32m/var/folders/3r/vv8m2rv95fz7qh9n60xh60y40000gp/T/ipykernel_20825/2142926555.py\u001b[0m in \u001b[0;36mscrap_from_playlist\u001b[0;34m()\u001b[0m\n\u001b[1;32m     49\u001b[0m         \u001b[0;32mexcept\u001b[0m \u001b[0mIndexError\u001b[0m\u001b[0;34m:\u001b[0m\u001b[0;34m\u001b[0m\u001b[0;34m\u001b[0m\u001b[0m\n\u001b[1;32m     50\u001b[0m             \u001b[0;32mpass\u001b[0m\u001b[0;34m\u001b[0m\u001b[0;34m\u001b[0m\u001b[0m\n\u001b[0;32m---> 51\u001b[0;31m         \u001b[0msong_database\u001b[0m \u001b[0;34m=\u001b[0m \u001b[0msong_database\u001b[0m\u001b[0;34m.\u001b[0m\u001b[0mappend\u001b[0m\u001b[0;34m(\u001b[0m\u001b[0mtest\u001b[0m\u001b[0;34m,\u001b[0m \u001b[0mignore_index\u001b[0m\u001b[0;34m=\u001b[0m\u001b[0;32mTrue\u001b[0m\u001b[0;34m)\u001b[0m\u001b[0;34m\u001b[0m\u001b[0;34m\u001b[0m\u001b[0m\n\u001b[0m\u001b[1;32m     52\u001b[0m \u001b[0;34m\u001b[0m\u001b[0m\n\u001b[1;32m     53\u001b[0m     \u001b[0;32mreturn\u001b[0m \u001b[0msong_database\u001b[0m\u001b[0;34m\u001b[0m\u001b[0;34m\u001b[0m\u001b[0m\n",
      "\u001b[0;31mUnboundLocalError\u001b[0m: local variable 'song_database' referenced before assignment"
     ]
    }
   ],
   "source": [
    "def get_audio_feature():\n",
    "    sp = spotipy.Spotify(auth_manager=SpotifyClientCredentials(client_id= config.client_id, client_secret= config.client_secret))\n",
    "    \n",
    "    \n",
    "    song_database = pd.read_csv('song_database.csv')\n",
    "    def get_playlist_tracks(username, playlist_id):\n",
    "        results = sp.user_playlist_tracks(username,playlist_id,market=\"GB\")\n",
    "        tracks = results['items']\n",
    "        while results['next']:\n",
    "            results = sp.next(results)\n",
    "            tracks.extend(results['items'])\n",
    "        return tracks\n",
    "    \n",
    "    def get_artists_from_track(track):\n",
    "        return [artist[\"name\"] for artist in track[\"artists\"]]\n",
    "    \n",
    "    def get_artists_from_playlist(playlist_id):\n",
    "        tracks_from_playlist = get_playlist_tracks(\"spotify\", playlist_id)\n",
    "        return list(set(artist for subset in [get_artists_from_track(track[\"track\"]) for track in tracks_from_playlist] for artist in subset))\n",
    "    \n",
    "    new_artist_list = get_artists_from_playlist(list_id)\n",
    "    print(new_artist_list)\n",
    "    \n",
    "    for a in new_artist_list:\n",
    "        results = sp.search(q=a, limit=50,market=\"GB\")\n",
    "    for b in range(50):\n",
    "        try:\n",
    "            name = results[\"tracks\"][\"items\"][b]['name']\n",
    "        except IndexError:\n",
    "            pass\n",
    "        except TypeError:\n",
    "            pass\n",
    "        song = sp.search(q=name, limit=1,market=\"GB\") \n",
    "        try:\n",
    "            test = sp.audio_features(song[\"tracks\"][\"items\"][0][\"uri\"])[0]\n",
    "        except IndexError:\n",
    "            pass\n",
    "        except TypeError:\n",
    "            pass\n",
    "        try:\n",
    "            test['artist'] = song[\"tracks\"][\"items\"][0]['artists'][0]['name'].lower()\n",
    "        except TypeError:\n",
    "            pass\n",
    "        except IndexError:\n",
    "            pass\n",
    "        try:\n",
    "            test['song'] = song[\"tracks\"][\"items\"][0]['name'].lower()\n",
    "        except TypeError:\n",
    "            pass\n",
    "        except IndexError:\n",
    "            pass\n",
    "        song_database = song_database.append(test, ignore_index=True)\n",
    "\n",
    "    return song_database"
   ]
  },
  {
   "cell_type": "code",
   "execution_count": 3,
   "id": "d5fa3c1f",
   "metadata": {},
   "outputs": [],
   "source": []
  },
  {
   "cell_type": "code",
   "execution_count": 4,
   "id": "3b4c2f74",
   "metadata": {},
   "outputs": [
    {
     "ename": "NameError",
     "evalue": "name 'sp' is not defined",
     "output_type": "error",
     "traceback": [
      "\u001b[0;31m---------------------------------------------------------------------------\u001b[0m",
      "\u001b[0;31mNameError\u001b[0m                                 Traceback (most recent call last)",
      "\u001b[0;32m/var/folders/3r/vv8m2rv95fz7qh9n60xh60y40000gp/T/ipykernel_18669/1911362783.py\u001b[0m in \u001b[0;36m<module>\u001b[0;34m\u001b[0m\n\u001b[1;32m      2\u001b[0m \u001b[0msong_database\u001b[0m \u001b[0;34m=\u001b[0m \u001b[0mpd\u001b[0m\u001b[0;34m.\u001b[0m\u001b[0mread_csv\u001b[0m\u001b[0;34m(\u001b[0m\u001b[0;34m'song_database.csv'\u001b[0m\u001b[0;34m)\u001b[0m\u001b[0;34m\u001b[0m\u001b[0;34m\u001b[0m\u001b[0m\n\u001b[1;32m      3\u001b[0m \u001b[0;34m\u001b[0m\u001b[0m\n\u001b[0;32m----> 4\u001b[0;31m \u001b[0mfunc_set_up\u001b[0m\u001b[0;34m.\u001b[0m\u001b[0mget_playlist_tracks\u001b[0m\u001b[0;34m(\u001b[0m\u001b[0;34m\"spotify\"\u001b[0m\u001b[0;34m,\u001b[0m \u001b[0;34m\"2ul0Es0SXpbLwkd37eWrdf\"\u001b[0m\u001b[0;34m)\u001b[0m\u001b[0;34m\u001b[0m\u001b[0;34m\u001b[0m\u001b[0m\n\u001b[0m\u001b[1;32m      5\u001b[0m \u001b[0;34m\u001b[0m\u001b[0m\n\u001b[1;32m      6\u001b[0m \u001b[0;34m\u001b[0m\u001b[0m\n",
      "\u001b[0;32m~/Documents/GitHub/spotify_project/func_set_up.py\u001b[0m in \u001b[0;36mget_playlist_tracks\u001b[0;34m(username, playlist_id)\u001b[0m\n\u001b[1;32m     47\u001b[0m \u001b[0;34m\u001b[0m\u001b[0m\n\u001b[1;32m     48\u001b[0m \u001b[0;32mdef\u001b[0m \u001b[0mget_playlist_tracks\u001b[0m\u001b[0;34m(\u001b[0m\u001b[0musername\u001b[0m\u001b[0;34m,\u001b[0m \u001b[0mplaylist_id\u001b[0m\u001b[0;34m)\u001b[0m\u001b[0;34m:\u001b[0m\u001b[0;34m\u001b[0m\u001b[0;34m\u001b[0m\u001b[0m\n\u001b[0;32m---> 49\u001b[0;31m     \u001b[0mresults\u001b[0m \u001b[0;34m=\u001b[0m \u001b[0msp\u001b[0m\u001b[0;34m.\u001b[0m\u001b[0muser_playlist_tracks\u001b[0m\u001b[0;34m(\u001b[0m\u001b[0musername\u001b[0m\u001b[0;34m,\u001b[0m\u001b[0mplaylist_id\u001b[0m\u001b[0;34m,\u001b[0m\u001b[0mmarket\u001b[0m\u001b[0;34m=\u001b[0m\u001b[0;34m\"GB\"\u001b[0m\u001b[0;34m)\u001b[0m\u001b[0;34m\u001b[0m\u001b[0;34m\u001b[0m\u001b[0m\n\u001b[0m\u001b[1;32m     50\u001b[0m     \u001b[0mtracks\u001b[0m \u001b[0;34m=\u001b[0m \u001b[0mresults\u001b[0m\u001b[0;34m[\u001b[0m\u001b[0;34m'items'\u001b[0m\u001b[0;34m]\u001b[0m\u001b[0;34m\u001b[0m\u001b[0;34m\u001b[0m\u001b[0m\n\u001b[1;32m     51\u001b[0m     \u001b[0;32mwhile\u001b[0m \u001b[0mresults\u001b[0m\u001b[0;34m[\u001b[0m\u001b[0;34m'next'\u001b[0m\u001b[0;34m]\u001b[0m\u001b[0;34m:\u001b[0m\u001b[0;34m\u001b[0m\u001b[0;34m\u001b[0m\u001b[0m\n",
      "\u001b[0;31mNameError\u001b[0m: name 'sp' is not defined"
     ]
    }
   ],
   "source": []
  },
  {
   "cell_type": "code",
   "execution_count": null,
   "id": "7b1b25b5",
   "metadata": {},
   "outputs": [],
   "source": []
  }
 ],
 "metadata": {
  "kernelspec": {
   "display_name": "Python 3 (ipykernel)",
   "language": "python",
   "name": "python3"
  },
  "language_info": {
   "codemirror_mode": {
    "name": "ipython",
    "version": 3
   },
   "file_extension": ".py",
   "mimetype": "text/x-python",
   "name": "python",
   "nbconvert_exporter": "python",
   "pygments_lexer": "ipython3",
   "version": "3.9.6"
  }
 },
 "nbformat": 4,
 "nbformat_minor": 5
}
