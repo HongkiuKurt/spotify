{
 "cells": [
  {
   "cell_type": "code",
   "execution_count": 1,
   "id": "6c03375f",
   "metadata": {},
   "outputs": [],
   "source": [
    "import config\n",
    "import pandas as pd\n",
    "import numpy as np\n",
    "import spotipy\n",
    "import json\n",
    "from spotipy.oauth2 import SpotifyClientCredentials\n",
    "import pickle\n",
    "from matplotlib import pyplot\n",
    "from IPython.display import IFrame"
   ]
  },
  {
   "cell_type": "code",
   "execution_count": 2,
   "id": "f6dd0aa6",
   "metadata": {},
   "outputs": [],
   "source": [
    "sp = spotipy.Spotify(auth_manager=SpotifyClientCredentials(client_id= config.client_id, client_secret= config.client_secret))\n"
   ]
  },
  {
   "cell_type": "code",
   "execution_count": 3,
   "id": "163c75f4",
   "metadata": {},
   "outputs": [],
   "source": [
    "def input_database():\n",
    "##orginal song database.\n",
    "    global song_database\n",
    "    song_database = pd.read_csv('song_database.csv')\n",
    "##Billboard top 100.\n",
    "    global hot_list\n",
    "    hot_list = pd.read_csv('top100_.csv')\n",
    "##orginal song database with clusters.\n",
    "    global database_cluster\n",
    "    database_cluster = pd.read_csv('database_cluster.csv')\n"
   ]
  },
  {
   "cell_type": "markdown",
   "id": "9530b83d",
   "metadata": {},
   "source": [
    "# Function for hot/cold/wrong songs.\n"
   ]
  },
  {
   "cell_type": "code",
   "execution_count": 4,
   "id": "585ceadb",
   "metadata": {},
   "outputs": [],
   "source": [
    "def hot_search():\n",
    "    global track_id\n",
    "    recommand_100 = hot_list.sample()\n",
    "    song_100 = ''.join(recommand_100.song.values)\n",
    "    artist_100 = ''.join(recommand_100.artist.values)\n",
    "    print('Cool! Your song is in the top 100. Let me recommand another song from top 100. The song is', song_100.capitalize(), 'by', artist_100.capitalize())\n",
    "    index_100 = recommand_100.index\n",
    "    track_id = song_database.loc[index_100, 'id'].values[0]\n"
   ]
  },
  {
   "cell_type": "code",
   "execution_count": 5,
   "id": "980e7edf",
   "metadata": {},
   "outputs": [],
   "source": [
    "def cold_search():\n",
    "    global track_id    \n",
    "    sp = spotipy.Spotify(auth_manager=SpotifyClientCredentials(client_id= config.client_id, client_secret= config.client_secret))\n",
    "    selected_song = sp.search(q=song, limit=1,market=\"GB\")    \n",
    "    selected_song_feature = sp.audio_features(selected_song[\"tracks\"][\"items\"][0][\"uri\"])[0]\n",
    "    column_names = ['acousticness', 'danceability', 'duration_ms', 'energy',\n",
    "       'instrumentalness', 'key', 'liveness', 'loudness', 'mode',\n",
    "       'speechiness', 'tempo', 'time_signature','valence']\n",
    "    empty_database = pd.DataFrame(np.random.randint(0,1,size=(1, 13)), columns = column_names)\n",
    "    for a in column_names:\n",
    "        empty_database[a] = selected_song_feature[a]\n",
    "    empty_database_scaled = scaler2.transform(empty_database)\n",
    "    empty_database_scaled_df = pd.DataFrame(empty_database_scaled, columns = empty_database.columns)\n",
    "    song_cluster = model.predict(empty_database_scaled_df)\n",
    "    recommand_song = database_cluster[database_cluster['cluster'] == song_cluster[0]].sample()\n",
    "    a = recommand_song.index    \n",
    "    track_id = song_database.loc[a, 'id'].values[0]\n",
    "    recommand_song_song = song_database.loc[a, 'song'].values[0]\n",
    "    recommand_song_artist = song_database.loc[a, 'artist'].values[0]\n",
    "    print('Good taste! Let me recommand you something you may like. The song is', recommand_song_song.capitalize(), 'by', recommand_song_artist.capitalize())\n",
    "    test = sp.audio_features(selected_song[\"tracks\"][\"items\"][0][\"uri\"])[0]\n",
    "    test['artist'] = selected_song[\"tracks\"][\"items\"][0]['artists'][0]['name'].lower()\n",
    "    test['song'] = selected_song[\"tracks\"][\"items\"][0]['name'].lower()\n"
   ]
  },
  {
   "cell_type": "code",
   "execution_count": 6,
   "id": "4af9ca84",
   "metadata": {},
   "outputs": [],
   "source": [
    "def wrong_search():\n",
    "    global track_id\n",
    "    database_cluster = pd.read_csv('database_cluster.csv')\n",
    "    recommand_random = hot_list.sample()\n",
    "    song_random = ''.join(recommand_random.song.values)\n",
    "    artist_random = ''.join(recommand_random.artist.values)\n",
    "    print('Your song can not be found in our database, let me recommand you a hit song', song_random.capitalize(), 'by', artist_random.capitalize())\n",
    "    index_random = recommand_random.index\n",
    "    track_id = song_database.loc[index_random, 'id'].values[0] \n",
    "    "
   ]
  },
  {
   "cell_type": "code",
   "execution_count": 7,
   "id": "56754a9f",
   "metadata": {},
   "outputs": [],
   "source": [
    "def load(filename = \"filename.pickle\"): \n",
    "    try: \n",
    "        with open(filename, \"rb\") as f: \n",
    "            return pickle.load(f) \n",
    "    except FileNotFoundError: \n",
    "        print(\"File not found!\") "
   ]
  },
  {
   "cell_type": "code",
   "execution_count": 8,
   "id": "c61c7dd6",
   "metadata": {},
   "outputs": [],
   "source": [
    "input_database()"
   ]
  },
  {
   "cell_type": "markdown",
   "id": "538b7518",
   "metadata": {},
   "source": [
    "# input Model"
   ]
  },
  {
   "cell_type": "code",
   "execution_count": 9,
   "id": "1b6b30d4",
   "metadata": {},
   "outputs": [],
   "source": [
    "model = load(filename = \"Model/kmeans_14.pickle\")\n",
    "scaler2 = load(\"Model/scaler.pickle\")"
   ]
  },
  {
   "cell_type": "markdown",
   "id": "7c8bdbbe",
   "metadata": {},
   "source": [
    "# input song"
   ]
  },
  {
   "cell_type": "code",
   "execution_count": 50,
   "id": "0ce7a926",
   "metadata": {},
   "outputs": [
    {
     "name": "stdout",
     "output_type": "stream",
     "text": [
      "Hello, can you share me a song you are listening? let her go\n"
     ]
    }
   ],
   "source": [
    "song = input('Hello, can you share me a song you are listening? ')\n"
   ]
  },
  {
   "cell_type": "code",
   "execution_count": 51,
   "id": "9c3250ed",
   "metadata": {},
   "outputs": [],
   "source": [
    "song = song.lower()\n"
   ]
  },
  {
   "cell_type": "markdown",
   "id": "1fd389b4",
   "metadata": {},
   "source": [
    "# Result"
   ]
  },
  {
   "cell_type": "code",
   "execution_count": 52,
   "id": "38683415",
   "metadata": {},
   "outputs": [
    {
     "name": "stdout",
     "output_type": "stream",
     "text": [
      "Good taste! Let me recommand you something you may like. The song is Sorry by Justin bieber\n"
     ]
    }
   ],
   "source": [
    "if song in hot_list.song.values:\n",
    "    hot_search()\n",
    "\n",
    "else:\n",
    "    try:\n",
    "        cold_search()\n",
    "                \n",
    "    except Exception:\n",
    "        wrong_search()\n",
    "        \n"
   ]
  },
  {
   "cell_type": "code",
   "execution_count": 53,
   "id": "2dca5372",
   "metadata": {},
   "outputs": [
    {
     "data": {
      "text/html": [
       "\n",
       "        <iframe\n",
       "            width=\"320\"\n",
       "            height=\"80\"\n",
       "            src=\"https://open.spotify.com/embed/track/5rEvuW4YhwobKwGL1HPrXA?frameborder=0&allowtransparency=true&allow=encrypted-media\"\n",
       "            frameborder=\"0\"\n",
       "            allowfullscreen\n",
       "            \n",
       "        ></iframe>\n",
       "        "
      ],
      "text/plain": [
       "<IPython.lib.display.IFrame at 0x7fb2b9848310>"
      ]
     },
     "execution_count": 53,
     "metadata": {},
     "output_type": "execute_result"
    }
   ],
   "source": [
    "results = sp.search(q=[song], limit=1,market=\"GB\")\n",
    "select_id = results['tracks']['items'][0]['id']\n",
    "\n",
    "IFrame(src=f\"https://open.spotify.com/embed/track/{select_id}\",\n",
    "       width=\"320\",\n",
    "       height=\"80\",\n",
    "       frameborder=\"0\",\n",
    "       allowtransparency=\"true\",\n",
    "       allow=\"encrypted-media\",\n",
    "      )\n"
   ]
  },
  {
   "cell_type": "code",
   "execution_count": 54,
   "id": "d80584a5",
   "metadata": {},
   "outputs": [
    {
     "data": {
      "text/html": [
       "\n",
       "        <iframe\n",
       "            width=\"320\"\n",
       "            height=\"80\"\n",
       "            src=\"https://open.spotify.com/embed/track/09CtPGIpYB4BrO8qb1RGsF?frameborder=0&allowtransparency=true&allow=encrypted-media\"\n",
       "            frameborder=\"0\"\n",
       "            allowfullscreen\n",
       "            \n",
       "        ></iframe>\n",
       "        "
      ],
      "text/plain": [
       "<IPython.lib.display.IFrame at 0x7fb2dada7fa0>"
      ]
     },
     "execution_count": 54,
     "metadata": {},
     "output_type": "execute_result"
    }
   ],
   "source": [
    "IFrame(src=f\"https://open.spotify.com/embed/track/{track_id}\",\n",
    "       width=\"320\",\n",
    "       height=\"80\",\n",
    "       frameborder=\"0\",\n",
    "       allowtransparency=\"true\",\n",
    "       allow=\"encrypted-media\",\n",
    "      )"
   ]
  },
  {
   "cell_type": "code",
   "execution_count": null,
   "id": "baf88548",
   "metadata": {},
   "outputs": [],
   "source": []
  }
 ],
 "metadata": {
  "kernelspec": {
   "display_name": "Python 3 (ipykernel)",
   "language": "python",
   "name": "python3"
  },
  "language_info": {
   "codemirror_mode": {
    "name": "ipython",
    "version": 3
   },
   "file_extension": ".py",
   "mimetype": "text/x-python",
   "name": "python",
   "nbconvert_exporter": "python",
   "pygments_lexer": "ipython3",
   "version": "3.9.6"
  }
 },
 "nbformat": 4,
 "nbformat_minor": 5
}
